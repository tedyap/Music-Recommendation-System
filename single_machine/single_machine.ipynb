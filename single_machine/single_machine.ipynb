{
 "cells": [
  {
   "cell_type": "code",
   "execution_count": 17,
   "id": "d82d03bb",
   "metadata": {},
   "outputs": [],
   "source": [
    "import pandas as pd\n",
    "import time\n",
    "import matplotlib.pyplot as plt\n",
    "\n",
    "from lenskit.algorithms.implicit import ALS\n",
    "from lenskit import batch, topn, util\n",
    "from lenskit.algorithms import Recommender"
   ]
  },
  {
   "cell_type": "markdown",
   "id": "81bd0a10",
   "metadata": {},
   "source": [
    "## Import Entire Dataset"
   ]
  },
  {
   "cell_type": "code",
   "execution_count": 2,
   "id": "d67bb6db",
   "metadata": {},
   "outputs": [],
   "source": [
    "df_train = pd.read_parquet('processed_data/cf_train_idx.parquet')\n",
    "df_val = pd.read_parquet('processed_data/cf_validation_idx.parquet')\n",
    "df_test = pd.read_parquet('processed_data/cf_test_idx.parquet')"
   ]
  },
  {
   "cell_type": "code",
   "execution_count": 3,
   "id": "562d3509",
   "metadata": {},
   "outputs": [],
   "source": [
    "df_train.columns = ['user','count','item']\n",
    "df_val.columns = ['user','count','item']\n",
    "df_test.columns = ['user','count','item']"
   ]
  },
  {
   "cell_type": "code",
   "execution_count": 4,
   "id": "c57e037b",
   "metadata": {},
   "outputs": [],
   "source": [
    "for i in ['user','count','item']:\n",
    "    df_train[i] = df_train[i].astype(int)\n",
    "    df_val[i] = df_val[i].astype(int)\n",
    "    df_test[i] = df_test[i].astype(int)"
   ]
  },
  {
   "cell_type": "markdown",
   "id": "e73072c7",
   "metadata": {},
   "source": [
    "## Downsample Training Data\n",
    "\n",
    "First, we get all the unique users that exist in both validation and test data, then for each unique user, sample a few data points from the train data."
   ]
  },
  {
   "cell_type": "code",
   "execution_count": 5,
   "id": "ec7b6b62",
   "metadata": {},
   "outputs": [],
   "source": [
    "train = set(df_train['user'].unique().tolist())\n",
    "val = set(df_val['user'].unique().tolist())\n",
    "test = set(df_test['user'].unique().tolist())\n",
    "users = val.union(test)"
   ]
  },
  {
   "cell_type": "markdown",
   "id": "90c9c244",
   "metadata": {},
   "source": [
    "### Sub-sampling 1%"
   ]
  },
  {
   "cell_type": "code",
   "execution_count": 6,
   "id": "9c84dff5",
   "metadata": {},
   "outputs": [],
   "source": [
    "df_train_subset = df_train.sample(frac=0.01, replace=False, random_state=1)"
   ]
  },
  {
   "cell_type": "markdown",
   "id": "058f69ab",
   "metadata": {},
   "source": [
    "## Train and Evaluate Implicit ALS"
   ]
  },
  {
   "cell_type": "code",
   "execution_count": 7,
   "id": "19adfee4",
   "metadata": {},
   "outputs": [],
   "source": [
    "# set alpha since implicit does not support alpha parameter\n",
    "alpha = 40\n",
    "df_train_subset['count'] = alpha*df_train_subset['count']"
   ]
  },
  {
   "cell_type": "code",
   "execution_count": 8,
   "id": "b3ccd04e",
   "metadata": {},
   "outputs": [],
   "source": [
    "def evaluate(aname, algo, train, test):\n",
    "    fittable = util.clone(algo)\n",
    "    fittable = Recommender.adapt(fittable)\n",
    "    fittable.fit(train)\n",
    "    users = test.user.unique()\n",
    "    # now we run the recommender\n",
    "    recs = batch.recommend(fittable, users, 500)\n",
    "    # add the algorithm name for analyzability\n",
    "    recs['Algorithm'] = aname\n",
    "    return recs"
   ]
  },
  {
   "cell_type": "code",
   "execution_count": 9,
   "id": "bb01ed36",
   "metadata": {},
   "outputs": [
    {
     "name": "stderr",
     "output_type": "stream",
     "text": [
      "WARNING:root:OpenBLAS detected. Its highly recommend to set the environment variable 'export OPENBLAS_NUM_THREADS=1' to disable its internal multithreading\n"
     ]
    }
   ],
   "source": [
    "model = ALS(factors=15, regularization=0.1)"
   ]
  },
  {
   "cell_type": "code",
   "execution_count": 10,
   "id": "50042640",
   "metadata": {},
   "outputs": [
    {
     "data": {
      "application/vnd.jupyter.widget-view+json": {
       "model_id": "de3e9fb51e7449cd892d40c64ebab77f",
       "version_major": 2,
       "version_minor": 0
      },
      "text/plain": [
       "HBox(children=(HTML(value=''), FloatProgress(value=0.0, max=15.0), HTML(value='')))"
      ]
     },
     "metadata": {},
     "output_type": "display_data"
    },
    {
     "name": "stdout",
     "output_type": "stream",
     "text": [
      "\n"
     ]
    }
   ],
   "source": [
    "all_recs = evaluate('ALS', model, df_train_subset, df_val)"
   ]
  },
  {
   "cell_type": "code",
   "execution_count": 11,
   "id": "9bc0d70c",
   "metadata": {},
   "outputs": [
    {
     "data": {
      "text/html": [
       "<div>\n",
       "<style scoped>\n",
       "    .dataframe tbody tr th:only-of-type {\n",
       "        vertical-align: middle;\n",
       "    }\n",
       "\n",
       "    .dataframe tbody tr th {\n",
       "        vertical-align: top;\n",
       "    }\n",
       "\n",
       "    .dataframe thead th {\n",
       "        text-align: right;\n",
       "    }\n",
       "</style>\n",
       "<table border=\"1\" class=\"dataframe\">\n",
       "  <thead>\n",
       "    <tr style=\"text-align: right;\">\n",
       "      <th></th>\n",
       "      <th>item</th>\n",
       "      <th>user</th>\n",
       "      <th>rank</th>\n",
       "      <th>score</th>\n",
       "      <th>Algorithm</th>\n",
       "    </tr>\n",
       "  </thead>\n",
       "  <tbody>\n",
       "    <tr>\n",
       "      <th>0</th>\n",
       "      <td>16.0</td>\n",
       "      <td>565257</td>\n",
       "      <td>1</td>\n",
       "      <td>0.000056</td>\n",
       "      <td>ALS</td>\n",
       "    </tr>\n",
       "    <tr>\n",
       "      <th>1</th>\n",
       "      <td>12.0</td>\n",
       "      <td>565257</td>\n",
       "      <td>2</td>\n",
       "      <td>0.000020</td>\n",
       "      <td>ALS</td>\n",
       "    </tr>\n",
       "    <tr>\n",
       "      <th>2</th>\n",
       "      <td>11.0</td>\n",
       "      <td>565257</td>\n",
       "      <td>3</td>\n",
       "      <td>0.000019</td>\n",
       "      <td>ALS</td>\n",
       "    </tr>\n",
       "    <tr>\n",
       "      <th>3</th>\n",
       "      <td>10.0</td>\n",
       "      <td>565257</td>\n",
       "      <td>4</td>\n",
       "      <td>0.000017</td>\n",
       "      <td>ALS</td>\n",
       "    </tr>\n",
       "    <tr>\n",
       "      <th>4</th>\n",
       "      <td>14.0</td>\n",
       "      <td>565257</td>\n",
       "      <td>5</td>\n",
       "      <td>0.000015</td>\n",
       "      <td>ALS</td>\n",
       "    </tr>\n",
       "  </tbody>\n",
       "</table>\n",
       "</div>"
      ],
      "text/plain": [
       "   item    user  rank     score Algorithm\n",
       "0  16.0  565257     1  0.000056       ALS\n",
       "1  12.0  565257     2  0.000020       ALS\n",
       "2  11.0  565257     3  0.000019       ALS\n",
       "3  10.0  565257     4  0.000017       ALS\n",
       "4  14.0  565257     5  0.000015       ALS"
      ]
     },
     "execution_count": 11,
     "metadata": {},
     "output_type": "execute_result"
    }
   ],
   "source": [
    "all_recs.head()"
   ]
  },
  {
   "cell_type": "code",
   "execution_count": 12,
   "id": "b5b3b070",
   "metadata": {},
   "outputs": [
    {
     "data": {
      "text/plain": [
       "0.004011522633744856"
      ]
     },
     "execution_count": 12,
     "metadata": {},
     "output_type": "execute_result"
    }
   ],
   "source": [
    "rla = topn.RecListAnalysis()\n",
    "# rla.add_metric(topn.ndcg)\n",
    "rla.add_metric(topn.precision)\n",
    "results = rla.compute(all_recs, df_val)\n",
    "results['precision'].mean()"
   ]
  },
  {
   "cell_type": "markdown",
   "id": "53110cd9",
   "metadata": {},
   "source": [
    "## Putting All This Together"
   ]
  },
  {
   "cell_type": "code",
   "execution_count": 13,
   "id": "7e7df65f",
   "metadata": {
    "scrolled": true
   },
   "outputs": [
    {
     "name": "stdout",
     "output_type": "stream",
     "text": [
      "Running with 0.01 % of sample\n"
     ]
    },
    {
     "data": {
      "application/vnd.jupyter.widget-view+json": {
       "model_id": "13dcf488e4fa40eea5569910ee8e2730",
       "version_major": 2,
       "version_minor": 0
      },
      "text/plain": [
       "HBox(children=(HTML(value=''), FloatProgress(value=0.0, max=15.0), HTML(value='')))"
      ]
     },
     "metadata": {},
     "output_type": "display_data"
    },
    {
     "name": "stdout",
     "output_type": "stream",
     "text": [
      "\n",
      "Running with 0.05 % of sample\n"
     ]
    },
    {
     "data": {
      "application/vnd.jupyter.widget-view+json": {
       "model_id": "05f62857638941a1936e00eac902e2f9",
       "version_major": 2,
       "version_minor": 0
      },
      "text/plain": [
       "HBox(children=(HTML(value=''), FloatProgress(value=0.0, max=15.0), HTML(value='')))"
      ]
     },
     "metadata": {},
     "output_type": "display_data"
    },
    {
     "name": "stdout",
     "output_type": "stream",
     "text": [
      "\n",
      "Running with 0.25 % of sample\n"
     ]
    },
    {
     "data": {
      "application/vnd.jupyter.widget-view+json": {
       "model_id": "56b1a729d9a64f6290e7eb888fdd5a6b",
       "version_major": 2,
       "version_minor": 0
      },
      "text/plain": [
       "HBox(children=(HTML(value=''), FloatProgress(value=0.0, max=15.0), HTML(value='')))"
      ]
     },
     "metadata": {},
     "output_type": "display_data"
    },
    {
     "name": "stdout",
     "output_type": "stream",
     "text": [
      "\n",
      "Running with 0.5 % of sample\n"
     ]
    },
    {
     "data": {
      "application/vnd.jupyter.widget-view+json": {
       "model_id": "741f0983c8d841f6826e74dfe6440b23",
       "version_major": 2,
       "version_minor": 0
      },
      "text/plain": [
       "HBox(children=(HTML(value=''), FloatProgress(value=0.0, max=15.0), HTML(value='')))"
      ]
     },
     "metadata": {},
     "output_type": "display_data"
    },
    {
     "name": "stdout",
     "output_type": "stream",
     "text": [
      "\n",
      "Running with 1.0 % of sample\n"
     ]
    },
    {
     "data": {
      "application/vnd.jupyter.widget-view+json": {
       "model_id": "7b58060a6fce47609319ae27c4e64199",
       "version_major": 2,
       "version_minor": 0
      },
      "text/plain": [
       "HBox(children=(HTML(value=''), FloatProgress(value=0.0, max=15.0), HTML(value='')))"
      ]
     },
     "metadata": {},
     "output_type": "display_data"
    },
    {
     "name": "stdout",
     "output_type": "stream",
     "text": [
      "\n"
     ]
    }
   ],
   "source": [
    "sub_sample = [0.01, 0.05, 0.25, 0.5, 1.0]\n",
    "maps = []\n",
    "elapsed_time = []\n",
    "\n",
    "rla = topn.RecListAnalysis()\n",
    "# rla.add_metric(topn.ndcg)\n",
    "rla.add_metric(topn.precision)\n",
    "\n",
    "for i in sub_sample:\n",
    "    print('Running with {} % of sample'.format(i))\n",
    "    start = time.time()\n",
    "    df_train_subset = df_train.sample(frac=i, replace=False, random_state=1)\n",
    "\n",
    "    model = ALS(factors=15, regularization=0.1)\n",
    "    recs = evaluate('ALS', model, df_train_subset, df_test)\n",
    "    \n",
    "    results = rla.compute(recs, df_test)\n",
    "    maps.append(results['precision'].mean())\n",
    "    end = time.time()\n",
    "    elapsed_time.append(int(end - start))"
   ]
  },
  {
   "cell_type": "markdown",
   "id": "70ffbadf",
   "metadata": {},
   "source": [
    "## Comparison to Spark"
   ]
  },
  {
   "cell_type": "code",
   "execution_count": 31,
   "id": "fa0a0325",
   "metadata": {},
   "outputs": [],
   "source": [
    "df_sm = pd.DataFrame()\n",
    "df_sm['map'] = maps\n",
    "df_sm['time'] = elapsed_time\n",
    "df_sm['size'] = sub_sample\n",
    "df_sm.to_csv('sm_test_metrics.csv')"
   ]
  },
  {
   "cell_type": "code",
   "execution_count": 19,
   "id": "c167085e",
   "metadata": {},
   "outputs": [],
   "source": [
    "df_spark = pd.read_csv('spark_test_metrics.csv')\n",
    "sp_elapsed_time = df_spark['time'].tolist()\n",
    "sp_map = df_spark['map'].tolist()"
   ]
  },
  {
   "cell_type": "code",
   "execution_count": 28,
   "id": "7bfa0048",
   "metadata": {},
   "outputs": [
    {
     "data": {
      "image/png": "[encoded data removed]",
      "text/plain": [
       "<Figure size 432x288 with 1 Axes>"
      ]
     },
     "metadata": {
      "needs_background": "light"
     },
     "output_type": "display_data"
    },
    {
     "data": {
      "text/plain": [
       "<Figure size 432x288 with 0 Axes>"
      ]
     },
     "metadata": {},
     "output_type": "display_data"
    }
   ],
   "source": [
    "plt.plot(sub_sample, elapsed_time, label='single-machine')\n",
    "plt.plot(sub_sample, sp_elapsed_time, label='spark')\n",
    "plt.title('Training Time vs Dataset Size')\n",
    "plt.xlabel('sample size (percentage)')\n",
    "plt.ylabel('training time (sec)')\n",
    "plt.legend()\n",
    "plt.show()\n",
    "plt.savefig('time.png')"
   ]
  },
  {
   "cell_type": "code",
   "execution_count": 27,
   "id": "e0454673",
   "metadata": {},
   "outputs": [
    {
     "data": {
      "image/png": "[encoded data removed]",
      "text/plain": [
       "<Figure size 432x288 with 1 Axes>"
      ]
     },
     "metadata": {
      "needs_background": "light"
     },
     "output_type": "display_data"
    },
    {
     "data": {
      "text/plain": [
       "<Figure size 432x288 with 0 Axes>"
      ]
     },
     "metadata": {},
     "output_type": "display_data"
    }
   ],
   "source": [
    "plt.plot(sub_sample, maps, label='single-machine')\n",
    "plt.plot(sub_sample, sp_map, label='spark')\n",
    "plt.title('Mean Average Precision vs Dataset Size')\n",
    "plt.xlabel('sample size (percentage)')\n",
    "plt.ylabel('map')\n",
    "plt.legend()\n",
    "plt.show()\n",
    "plt.savefig('map.png')"
   ]
  },
  {
   "cell_type": "code",
   "execution_count": null,
   "id": "0ad323a9",
   "metadata": {},
   "outputs": [],
   "source": []
  }
 ],
 "metadata": {
  "kernelspec": {
   "display_name": "Python 3",
   "language": "python",
   "name": "python3"
  },
  "language_info": {
   "codemirror_mode": {
    "name": "ipython",
    "version": 3
   },
   "file_extension": ".py",
   "mimetype": "text/x-python",
   "name": "python",
   "nbconvert_exporter": "python",
   "pygments_lexer": "ipython3",
   "version": "3.8.5"
  }
 },
 "nbformat": 4,
 "nbformat_minor": 5
}
